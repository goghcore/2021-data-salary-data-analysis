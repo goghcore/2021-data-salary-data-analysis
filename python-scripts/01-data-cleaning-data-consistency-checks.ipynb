{
 "cells": [
  {
   "attachments": {},
   "cell_type": "markdown",
   "metadata": {},
   "source": [
    "# 01. Data Cleaning & Data Consistency Checks"
   ]
  },
  {
   "attachments": {},
   "cell_type": "markdown",
   "metadata": {},
   "source": [
    "## I. Data import"
   ]
  },
  {
   "cell_type": "code",
   "execution_count": null,
   "metadata": {},
   "outputs": [],
   "source": [
    "# import libraries\n",
    "import numpy as np\n",
    "import pandas as pd\n",
    "import os"
   ]
  },
  {
   "cell_type": "code",
   "execution_count": null,
   "metadata": {},
   "outputs": [],
   "source": [
    "# create directory path\n",
    "path = r'C:\\Users\\Ansgar.S\\Uyen\\OneDrive\\Documents\\Data Immersion\\Achievement IV - Python Fundamentals for Data Analysts\\02-2023 Instacart Basket Analysis'\n",
    "\n",
    "# import the 'products_wrangled.pkl' dataset\n",
    "df_prods = pd.read_pickle(os.path.join(path, '02 Data', 'Prepared Data', 'products_wrangled.pkl'))\n",
    "\n",
    "# import the 'orders_wrangled.pkl' dataset\n",
    "df_ords = pd.read_pickle(os.path.join(path, '02 Data', 'Prepared Data', 'orders_wrangled.pkl'))"
   ]
  }
 ],
 "metadata": {
  "kernelspec": {
   "display_name": "base",
   "language": "python",
   "name": "python3"
  },
  "language_info": {
   "name": "python",
   "version": "3.9.13"
  },
  "orig_nbformat": 4
 },
 "nbformat": 4,
 "nbformat_minor": 2
}
